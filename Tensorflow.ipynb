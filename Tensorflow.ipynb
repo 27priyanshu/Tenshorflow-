{
  "nbformat": 4,
  "nbformat_minor": 0,
  "metadata": {
    "colab": {
      "provenance": [],
      "gpuType": "T4",
      "authorship_tag": "ABX9TyPAjknbaYe7X9CC6Rv9Glul",
      "include_colab_link": true
    },
    "kernelspec": {
      "name": "python3",
      "display_name": "Python 3"
    },
    "language_info": {
      "name": "python"
    },
    "accelerator": "GPU"
  },
  "cells": [
    {
      "cell_type": "markdown",
      "metadata": {
        "id": "view-in-github",
        "colab_type": "text"
      },
      "source": [
        "<a href=\"https://colab.research.google.com/github/27priyanshu/Tensorflow-/blob/main/Tensorflow.ipynb\" target=\"_parent\"><img src=\"https://colab.research.google.com/assets/colab-badge.svg\" alt=\"Open In Colab\"/></a>"
      ]
    },
    {
      "cell_type": "code",
      "execution_count": 1,
      "metadata": {
        "colab": {
          "base_uri": "https://localhost:8080/",
          "height": 34
        },
        "id": "E_k1FAwmZrbT",
        "outputId": "812a92dc-3aed-4440-9030-0632432c8240"
      },
      "outputs": [
        {
          "output_type": "execute_result",
          "data": {
            "text/plain": [
              "'2.14.0'"
            ],
            "application/vnd.google.colaboratory.intrinsic+json": {
              "type": "string"
            }
          },
          "metadata": {},
          "execution_count": 1
        }
      ],
      "source": [
        "import tensorflow as tf\n",
        "\n",
        "tf.__version__\n"
      ]
    },
    {
      "cell_type": "code",
      "source": [
        "if tf.test.is_gpu_available():\n",
        "  print(\"Running on GPU\")\n",
        "else:\n",
        "  print(\"Running on CPU \")"
      ],
      "metadata": {
        "colab": {
          "base_uri": "https://localhost:8080/"
        },
        "id": "Uxkvjm_2Z5zk",
        "outputId": "eae58ea6-1546-48c2-f82b-f7a7766382d0"
      },
      "execution_count": 2,
      "outputs": [
        {
          "output_type": "stream",
          "name": "stderr",
          "text": [
            "WARNING:tensorflow:From <ipython-input-2-b49514055998>:1: is_gpu_available (from tensorflow.python.framework.test_util) is deprecated and will be removed in a future version.\n",
            "Instructions for updating:\n",
            "Use `tf.config.list_physical_devices('GPU')` instead.\n"
          ]
        },
        {
          "output_type": "stream",
          "name": "stdout",
          "text": [
            "Running on GPU\n"
          ]
        }
      ]
    },
    {
      "cell_type": "code",
      "source": [
        "ineuron = tf.constant(30)\n",
        "ineuron"
      ],
      "metadata": {
        "colab": {
          "base_uri": "https://localhost:8080/"
        },
        "id": "_oHZfmM4a1ty",
        "outputId": "bbcd3829-f45a-4e8f-9d4f-8fe75740eae0"
      },
      "execution_count": 3,
      "outputs": [
        {
          "output_type": "execute_result",
          "data": {
            "text/plain": [
              "<tf.Tensor: shape=(), dtype=int32, numpy=30>"
            ]
          },
          "metadata": {},
          "execution_count": 3
        }
      ]
    },
    {
      "cell_type": "code",
      "source": [
        "ineuron_x = tf.constant([[3,5],[5,2]])\n",
        "print(ineuron_x)"
      ],
      "metadata": {
        "colab": {
          "base_uri": "https://localhost:8080/"
        },
        "id": "JG_7Bfb6bt-U",
        "outputId": "3b95db68-5e34-4087-918b-12db3729ecca"
      },
      "execution_count": 4,
      "outputs": [
        {
          "output_type": "stream",
          "name": "stdout",
          "text": [
            "tf.Tensor(\n",
            "[[3 5]\n",
            " [5 2]], shape=(2, 2), dtype=int32)\n"
          ]
        }
      ]
    },
    {
      "cell_type": "code",
      "source": [
        "ineuron_x.numpy()"
      ],
      "metadata": {
        "colab": {
          "base_uri": "https://localhost:8080/"
        },
        "id": "fFn7yvPwcLd-",
        "outputId": "318659ce-8ab1-4800-c7c2-8618d00d45ec"
      },
      "execution_count": 5,
      "outputs": [
        {
          "output_type": "execute_result",
          "data": {
            "text/plain": [
              "array([[3, 5],\n",
              "       [5, 2]], dtype=int32)"
            ]
          },
          "metadata": {},
          "execution_count": 5
        }
      ]
    },
    {
      "cell_type": "markdown",
      "source": [
        "Commanly used method is to generate constant tf.one and constant tf.zeros"
      ],
      "metadata": {
        "id": "ok7bnJXbc6Db"
      }
    },
    {
      "cell_type": "code",
      "source": [
        "print(tf.ones(shape=(2,3)))"
      ],
      "metadata": {
        "colab": {
          "base_uri": "https://localhost:8080/"
        },
        "id": "1w_DiFBkchv4",
        "outputId": "b15fa30e-8bc0-4bba-bcea-306c161d72da"
      },
      "execution_count": 6,
      "outputs": [
        {
          "output_type": "stream",
          "name": "stdout",
          "text": [
            "tf.Tensor(\n",
            "[[1. 1. 1.]\n",
            " [1. 1. 1.]], shape=(2, 3), dtype=float32)\n"
          ]
        }
      ]
    },
    {
      "cell_type": "code",
      "source": [
        "print(tf.zeros(shape=(3,5)))"
      ],
      "metadata": {
        "colab": {
          "base_uri": "https://localhost:8080/"
        },
        "id": "3uerXUwOdRTI",
        "outputId": "c9993040-96ff-4c27-a091-4065f464c669"
      },
      "execution_count": 7,
      "outputs": [
        {
          "output_type": "stream",
          "name": "stdout",
          "text": [
            "tf.Tensor(\n",
            "[[0. 0. 0. 0. 0.]\n",
            " [0. 0. 0. 0. 0.]\n",
            " [0. 0. 0. 0. 0.]], shape=(3, 5), dtype=float32)\n"
          ]
        }
      ]
    },
    {
      "cell_type": "code",
      "source": [
        "const2 = tf.constant([[2,3,4],[2,3,5]])\n",
        "const1 = tf.constant([[6,6,3],[1,2,6]])\n",
        "\n",
        "result = tf.add(const2,const1)\n",
        "print(result)"
      ],
      "metadata": {
        "colab": {
          "base_uri": "https://localhost:8080/"
        },
        "id": "I9kLX-tFdefu",
        "outputId": "a64c2bd7-02c6-4892-d646-de67639d93f6"
      },
      "execution_count": 8,
      "outputs": [
        {
          "output_type": "stream",
          "name": "stdout",
          "text": [
            "tf.Tensor(\n",
            "[[ 8  9  7]\n",
            " [ 3  5 11]], shape=(2, 3), dtype=int32)\n"
          ]
        }
      ]
    },
    {
      "cell_type": "code",
      "source": [
        "tf.random.normal(shape=(2,2),mean=0,stddev=1.0)"
      ],
      "metadata": {
        "id": "2YGzmwItecra",
        "colab": {
          "base_uri": "https://localhost:8080/"
        },
        "outputId": "aa29c80b-ec4a-489d-ed2d-2055b3386a3a"
      },
      "execution_count": 9,
      "outputs": [
        {
          "output_type": "execute_result",
          "data": {
            "text/plain": [
              "<tf.Tensor: shape=(2, 2), dtype=float32, numpy=\n",
              "array([[-0.10752921,  0.54069126],\n",
              "       [-1.1289083 , -0.29858506]], dtype=float32)>"
            ]
          },
          "metadata": {},
          "execution_count": 9
        }
      ]
    },
    {
      "cell_type": "code",
      "source": [
        "tf.random.uniform(shape=(3,3),minval=1,maxval=20,dtype =tf.int32)"
      ],
      "metadata": {
        "colab": {
          "base_uri": "https://localhost:8080/"
        },
        "id": "mKhIeZR6nMHX",
        "outputId": "90aa46d8-bbe8-4fb4-ea82-601223d73abd"
      },
      "execution_count": 10,
      "outputs": [
        {
          "output_type": "execute_result",
          "data": {
            "text/plain": [
              "<tf.Tensor: shape=(3, 3), dtype=int32, numpy=\n",
              "array([[ 2,  3,  6],\n",
              "       [ 6,  4, 10],\n",
              "       [ 4,  2,  7]], dtype=int32)>"
            ]
          },
          "metadata": {},
          "execution_count": 10
        }
      ]
    },
    {
      "cell_type": "markdown",
      "source": [
        "**VARIABLES**"
      ],
      "metadata": {
        "id": "OY5KQBstoFBE"
      }
    },
    {
      "cell_type": "code",
      "source": [
        "var = 23 #Python\n",
        "var1 = tf.Variable(42)\n",
        "var2 = tf.Variable([[[2,3,4],[3,67,8]],[[2,5,8],[87,3,2]]])\n",
        "var,var1,var2"
      ],
      "metadata": {
        "colab": {
          "base_uri": "https://localhost:8080/"
        },
        "id": "nsj136i3nqS1",
        "outputId": "18059e7d-ce18-43c5-8cde-4292fbb9f1cb"
      },
      "execution_count": 11,
      "outputs": [
        {
          "output_type": "execute_result",
          "data": {
            "text/plain": [
              "(23,\n",
              " <tf.Variable 'Variable:0' shape=() dtype=int32, numpy=42>,\n",
              " <tf.Variable 'Variable:0' shape=(2, 2, 3) dtype=int32, numpy=\n",
              " array([[[ 2,  3,  4],\n",
              "         [ 3, 67,  8]],\n",
              " \n",
              "        [[ 2,  5,  8],\n",
              "         [87,  3,  2]]], dtype=int32)>)"
            ]
          },
          "metadata": {},
          "execution_count": 11
        }
      ]
    },
    {
      "cell_type": "markdown",
      "source": [
        "Shaping the Tensor"
      ],
      "metadata": {
        "id": "aEsSJQYjq1BN"
      }
    },
    {
      "cell_type": "code",
      "source": [
        "tensor = tf.Variable([[[2,3,4],[3,67,8]],[[2,5,8],[87,3,2]]])\n",
        "print(tensor.shape)"
      ],
      "metadata": {
        "colab": {
          "base_uri": "https://localhost:8080/"
        },
        "id": "quMbKyTlouh-",
        "outputId": "de013239-d1f8-4ca9-c2dd-28472db215b4"
      },
      "execution_count": 12,
      "outputs": [
        {
          "output_type": "stream",
          "name": "stdout",
          "text": [
            "(2, 2, 3)\n"
          ]
        }
      ]
    },
    {
      "cell_type": "code",
      "source": [
        "tensor1 = tf.reshape(tensor,[2,6])\n",
        "tensor2 = tf.reshape(tensor,[1,12])"
      ],
      "metadata": {
        "id": "gDv0MgTNrNcC"
      },
      "execution_count": 13,
      "outputs": []
    },
    {
      "cell_type": "code",
      "source": [
        "tensor1\n",
        "# tensor2"
      ],
      "metadata": {
        "colab": {
          "base_uri": "https://localhost:8080/"
        },
        "id": "Q1HmatpUrpw-",
        "outputId": "bf6ba629-4adc-4eb5-8afc-5c0f1de3afc4"
      },
      "execution_count": 14,
      "outputs": [
        {
          "output_type": "execute_result",
          "data": {
            "text/plain": [
              "<tf.Tensor: shape=(2, 6), dtype=int32, numpy=\n",
              "array([[ 2,  3,  4,  3, 67,  8],\n",
              "       [ 2,  5,  8, 87,  3,  2]], dtype=int32)>"
            ]
          },
          "metadata": {},
          "execution_count": 14
        }
      ]
    },
    {
      "cell_type": "markdown",
      "source": [
        "Ranking Of tensor"
      ],
      "metadata": {
        "id": "moZANKwxsB-8"
      }
    },
    {
      "cell_type": "code",
      "source": [
        "tensor"
      ],
      "metadata": {
        "colab": {
          "base_uri": "https://localhost:8080/"
        },
        "id": "PDHgvkUCrvr3",
        "outputId": "b621661f-18f8-4214-8aa4-2f23f6698ef4"
      },
      "execution_count": 15,
      "outputs": [
        {
          "output_type": "execute_result",
          "data": {
            "text/plain": [
              "<tf.Variable 'Variable:0' shape=(2, 2, 3) dtype=int32, numpy=\n",
              "array([[[ 2,  3,  4],\n",
              "        [ 3, 67,  8]],\n",
              "\n",
              "       [[ 2,  5,  8],\n",
              "        [87,  3,  2]]], dtype=int32)>"
            ]
          },
          "metadata": {},
          "execution_count": 15
        }
      ]
    },
    {
      "cell_type": "code",
      "source": [
        "tf.rank(tensor)"
      ],
      "metadata": {
        "colab": {
          "base_uri": "https://localhost:8080/"
        },
        "id": "vuR9u79MsVrE",
        "outputId": "87faeca8-808c-49ae-c9ad-f76f514feee5"
      },
      "execution_count": 16,
      "outputs": [
        {
          "output_type": "execute_result",
          "data": {
            "text/plain": [
              "<tf.Tensor: shape=(), dtype=int32, numpy=3>"
            ]
          },
          "metadata": {},
          "execution_count": 16
        }
      ]
    },
    {
      "cell_type": "code",
      "source": [
        "tensor3 = tensor[1,0,2] #slice = 1, row = 0, column = 2\n",
        "tensor3"
      ],
      "metadata": {
        "colab": {
          "base_uri": "https://localhost:8080/"
        },
        "id": "ySCwY_X-sYzt",
        "outputId": "971c3041-7801-40b8-ee4b-085ab079ca2f"
      },
      "execution_count": 17,
      "outputs": [
        {
          "output_type": "execute_result",
          "data": {
            "text/plain": [
              "<tf.Tensor: shape=(), dtype=int32, numpy=8>"
            ]
          },
          "metadata": {},
          "execution_count": 17
        }
      ]
    },
    {
      "cell_type": "markdown",
      "source": [
        "## Tensorflow Mathmatical Operation"
      ],
      "metadata": {
        "id": "ZO40a_jhIHn2"
      }
    },
    {
      "cell_type": "code",
      "source": [
        "a = tf.random.normal(shape = (2,2))\n",
        "b = tf.random.normal(shape = (2,2))\n",
        "c = a+b\n",
        "d = tf.math.square(c)\n",
        "e = tf.exp(c)\n",
        "print(a)\n",
        "print(b)\n",
        "print(c)\n",
        "print(d)\n",
        "print(e)"
      ],
      "metadata": {
        "id": "8yv2TJbmskE-",
        "colab": {
          "base_uri": "https://localhost:8080/"
        },
        "outputId": "77cf9f24-9cd4-4d7a-9c5a-c7d254d57d79"
      },
      "execution_count": 22,
      "outputs": [
        {
          "output_type": "stream",
          "name": "stdout",
          "text": [
            "tf.Tensor(\n",
            "[[ 1.6701436   0.50068915]\n",
            " [-0.6416764   0.6771303 ]], shape=(2, 2), dtype=float32)\n",
            "tf.Tensor(\n",
            "[[-0.13930607  0.12422695]\n",
            " [-1.8418226  -0.58830374]], shape=(2, 2), dtype=float32)\n",
            "tf.Tensor(\n",
            "[[ 1.5308375   0.6249161 ]\n",
            " [-2.483499    0.08882654]], shape=(2, 2), dtype=float32)\n",
            "tf.Tensor(\n",
            "[[2.3434637  0.3905201 ]\n",
            " [6.1677675  0.00789015]], shape=(2, 2), dtype=float32)\n",
            "tf.Tensor(\n",
            "[[4.6220465  1.8680892 ]\n",
            " [0.08345071 1.092891  ]], shape=(2, 2), dtype=float32)\n"
          ]
        }
      ]
    },
    {
      "cell_type": "markdown",
      "source": [
        "## Declaring Ragged Tensors"
      ],
      "metadata": {
        "id": "rPN_OQYxLa0Y"
      }
    },
    {
      "cell_type": "code",
      "source": [
        "ragged = tf.ragged.constant([[2,3,5],[8,9],[],[2,21,5]])\n",
        "\n",
        "print(ragged)\n",
        "print(ragged[0,:])\n",
        "print(ragged[1:])"
      ],
      "metadata": {
        "colab": {
          "base_uri": "https://localhost:8080/"
        },
        "id": "sJEWhEfcIk6l",
        "outputId": "5d63844a-1587-4be8-fb74-44728a9759e0"
      },
      "execution_count": 30,
      "outputs": [
        {
          "output_type": "stream",
          "name": "stdout",
          "text": [
            "<tf.RaggedTensor [[2, 3, 5], [8, 9], [], [2, 21, 5]]>\n",
            "tf.Tensor([2 3 5], shape=(3,), dtype=int32)\n",
            "<tf.RaggedTensor [[8, 9], [], [2, 21, 5]]>\n"
          ]
        }
      ]
    },
    {
      "cell_type": "markdown",
      "source": [
        "## Finding Sqaure Difference"
      ],
      "metadata": {
        "id": "LN2OMqesMr2z"
      }
    },
    {
      "cell_type": "code",
      "source": [
        "varx = [1,2,4,5,9]\n",
        "vary = 5\n",
        "\n",
        "varz = tf.math.squared_difference(varx,vary)\n",
        "varz"
      ],
      "metadata": {
        "colab": {
          "base_uri": "https://localhost:8080/"
        },
        "id": "C4IYlGawMIKh",
        "outputId": "ee6b01ed-15d3-4811-da20-653bf1346329"
      },
      "execution_count": 32,
      "outputs": [
        {
          "output_type": "execute_result",
          "data": {
            "text/plain": [
              "<tf.Tensor: shape=(5,), dtype=int32, numpy=array([16,  9,  1,  0, 16], dtype=int32)>"
            ]
          },
          "metadata": {},
          "execution_count": 32
        }
      ]
    },
    {
      "cell_type": "code",
      "source": [],
      "metadata": {
        "id": "9p4oDdNDM-Vf"
      },
      "execution_count": null,
      "outputs": []
    }
  ]
}